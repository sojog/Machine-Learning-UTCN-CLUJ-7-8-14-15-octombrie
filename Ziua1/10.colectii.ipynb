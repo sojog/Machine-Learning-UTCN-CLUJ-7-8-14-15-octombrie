{
 "cells": [
  {
   "cell_type": "markdown",
   "id": "23aa17eb",
   "metadata": {},
   "source": [
    "# Lista - heterogena, mutabila"
   ]
  },
  {
   "cell_type": "code",
   "execution_count": 2,
   "id": "83713932",
   "metadata": {},
   "outputs": [
    {
     "data": {
      "text/plain": [
       "list"
      ]
     },
     "execution_count": 2,
     "metadata": {},
     "output_type": "execute_result"
    }
   ],
   "source": [
    "list_x = [\"alb\", \"rosu\", \"negru\", \"verde\"]\n",
    "type(list_x)"
   ]
  },
  {
   "cell_type": "markdown",
   "id": "9eaf8c81",
   "metadata": {},
   "source": [
    "# Tuple - heterogena, imutabila"
   ]
  },
  {
   "cell_type": "code",
   "execution_count": 4,
   "id": "6efd99a3",
   "metadata": {},
   "outputs": [
    {
     "data": {
      "text/plain": [
       "tuple"
      ]
     },
     "execution_count": 4,
     "metadata": {},
     "output_type": "execute_result"
    }
   ],
   "source": [
    "tuple_x = (\"alb\", \"rosu\", \"negru\", \"verde\")\n",
    "type(tuple_x)"
   ]
  },
  {
   "cell_type": "code",
   "execution_count": 5,
   "id": "738653da",
   "metadata": {},
   "outputs": [
    {
     "data": {
      "text/plain": [
       "('rosu', 'rosu')"
      ]
     },
     "execution_count": 5,
     "metadata": {},
     "output_type": "execute_result"
    }
   ],
   "source": [
    "list_x[1], tuple_x[1]"
   ]
  },
  {
   "cell_type": "code",
   "execution_count": 6,
   "id": "782a9f67",
   "metadata": {},
   "outputs": [
    {
     "data": {
      "text/plain": [
       "('verde', 'verde')"
      ]
     },
     "execution_count": 6,
     "metadata": {},
     "output_type": "execute_result"
    }
   ],
   "source": [
    "list_x[-1], tuple_x[-1]"
   ]
  },
  {
   "cell_type": "code",
   "execution_count": 8,
   "id": "ceaeb475",
   "metadata": {},
   "outputs": [
    {
     "data": {
      "text/plain": [
       "['alb', 'rosu', 'negru', 'roz']"
      ]
     },
     "execution_count": 8,
     "metadata": {},
     "output_type": "execute_result"
    }
   ],
   "source": [
    "list_x[-1] = \"roz\"\n",
    "list_x"
   ]
  },
  {
   "cell_type": "markdown",
   "id": "820ebfff",
   "metadata": {},
   "source": [
    "# Tuple - este imutabil"
   ]
  },
  {
   "cell_type": "code",
   "execution_count": 9,
   "id": "98609898",
   "metadata": {},
   "outputs": [
    {
     "ename": "TypeError",
     "evalue": "'tuple' object does not support item assignment",
     "output_type": "error",
     "traceback": [
      "\u001b[31m---------------------------------------------------------------------------\u001b[39m",
      "\u001b[31mTypeError\u001b[39m                                 Traceback (most recent call last)",
      "\u001b[36mCell\u001b[39m\u001b[36m \u001b[39m\u001b[32mIn[9]\u001b[39m\u001b[32m, line 1\u001b[39m\n\u001b[32m----> \u001b[39m\u001b[32m1\u001b[39m \u001b[43mtuple_x\u001b[49m\u001b[43m[\u001b[49m\u001b[43m-\u001b[49m\u001b[32;43m1\u001b[39;49m\u001b[43m]\u001b[49m = \u001b[33m\"\u001b[39m\u001b[33mroz\u001b[39m\u001b[33m\"\u001b[39m\n\u001b[32m      2\u001b[39m tuple_x\n",
      "\u001b[31mTypeError\u001b[39m: 'tuple' object does not support item assignment"
     ]
    }
   ],
   "source": [
    "tuple_x[-1] = \"roz\"\n",
    "tuple_x"
   ]
  },
  {
   "cell_type": "code",
   "execution_count": 10,
   "id": "fdec6034",
   "metadata": {},
   "outputs": [],
   "source": [
    "list_x.append(\"gri\")"
   ]
  },
  {
   "cell_type": "code",
   "execution_count": 11,
   "id": "8fce9194",
   "metadata": {},
   "outputs": [
    {
     "data": {
      "text/plain": [
       "['alb', 'rosu', 'negru', 'roz', 'gri']"
      ]
     },
     "execution_count": 11,
     "metadata": {},
     "output_type": "execute_result"
    }
   ],
   "source": [
    "list_x"
   ]
  },
  {
   "cell_type": "markdown",
   "id": "64b7e470",
   "metadata": {},
   "source": [
    "# Tuplu este imutabil"
   ]
  },
  {
   "cell_type": "code",
   "execution_count": 12,
   "id": "aba07d41",
   "metadata": {},
   "outputs": [
    {
     "ename": "AttributeError",
     "evalue": "'tuple' object has no attribute 'append'",
     "output_type": "error",
     "traceback": [
      "\u001b[31m---------------------------------------------------------------------------\u001b[39m",
      "\u001b[31mAttributeError\u001b[39m                            Traceback (most recent call last)",
      "\u001b[36mCell\u001b[39m\u001b[36m \u001b[39m\u001b[32mIn[12]\u001b[39m\u001b[32m, line 1\u001b[39m\n\u001b[32m----> \u001b[39m\u001b[32m1\u001b[39m \u001b[43mtuple_x\u001b[49m\u001b[43m.\u001b[49m\u001b[43mappend\u001b[49m(\u001b[33m\"\u001b[39m\u001b[33mgri\u001b[39m\u001b[33m\"\u001b[39m)\n",
      "\u001b[31mAttributeError\u001b[39m: 'tuple' object has no attribute 'append'"
     ]
    }
   ],
   "source": [
    "tuple_x.append(\"gri\")"
   ]
  },
  {
   "cell_type": "code",
   "execution_count": 13,
   "id": "b8ed2e34",
   "metadata": {},
   "outputs": [
    {
     "data": {
      "text/plain": [
       "(30, 30, 200)"
      ]
     },
     "execution_count": 13,
     "metadata": {},
     "output_type": "execute_result"
    }
   ],
   "source": [
    "tuple_x = (30, 30, 200)\n",
    "tuple_x"
   ]
  },
  {
   "cell_type": "markdown",
   "id": "c40c96d2",
   "metadata": {},
   "source": [
    "# String - tip de date de baza, este si colectie"
   ]
  },
  {
   "cell_type": "code",
   "execution_count": 14,
   "id": "a20b71cf",
   "metadata": {},
   "outputs": [],
   "source": [
    "text = \"Salut\""
   ]
  },
  {
   "cell_type": "code",
   "execution_count": 15,
   "id": "ef039b39",
   "metadata": {},
   "outputs": [
    {
     "name": "stdout",
     "output_type": "stream",
     "text": [
      "S\n",
      "a\n",
      "l\n",
      "u\n",
      "t\n"
     ]
    }
   ],
   "source": [
    "for i in text:\n",
    "    print(i)"
   ]
  },
  {
   "cell_type": "code",
   "execution_count": 16,
   "id": "19cab112",
   "metadata": {},
   "outputs": [
    {
     "data": {
      "text/plain": [
       "'S'"
      ]
     },
     "execution_count": 16,
     "metadata": {},
     "output_type": "execute_result"
    }
   ],
   "source": [
    "text[0]"
   ]
  },
  {
   "cell_type": "code",
   "execution_count": 17,
   "id": "e24e7233",
   "metadata": {},
   "outputs": [
    {
     "data": {
      "text/plain": [
       "'Sal'"
      ]
     },
     "execution_count": 17,
     "metadata": {},
     "output_type": "execute_result"
    }
   ],
   "source": [
    "text[0:3]"
   ]
  },
  {
   "cell_type": "code",
   "execution_count": 18,
   "id": "5bd6fe0d",
   "metadata": {},
   "outputs": [
    {
     "data": {
      "text/plain": [
       "'Sal'"
      ]
     },
     "execution_count": 18,
     "metadata": {},
     "output_type": "execute_result"
    }
   ],
   "source": [
    "text[:3]"
   ]
  },
  {
   "cell_type": "code",
   "execution_count": 19,
   "id": "2afc5f17",
   "metadata": {},
   "outputs": [
    {
     "data": {
      "text/plain": [
       "'ut'"
      ]
     },
     "execution_count": 19,
     "metadata": {},
     "output_type": "execute_result"
    }
   ],
   "source": [
    "text[-2:]"
   ]
  },
  {
   "cell_type": "code",
   "execution_count": 20,
   "id": "ed41b6aa",
   "metadata": {},
   "outputs": [
    {
     "data": {
      "text/plain": [
       "'Salut'"
      ]
     },
     "execution_count": 20,
     "metadata": {},
     "output_type": "execute_result"
    }
   ],
   "source": [
    "text"
   ]
  },
  {
   "cell_type": "markdown",
   "id": "91d523f1",
   "metadata": {},
   "source": [
    "# String-ul este imutabil"
   ]
  },
  {
   "cell_type": "code",
   "execution_count": 22,
   "id": "3bf0277d",
   "metadata": {},
   "outputs": [
    {
     "ename": "TypeError",
     "evalue": "'str' object does not support item assignment",
     "output_type": "error",
     "traceback": [
      "\u001b[31m---------------------------------------------------------------------------\u001b[39m",
      "\u001b[31mTypeError\u001b[39m                                 Traceback (most recent call last)",
      "\u001b[36mCell\u001b[39m\u001b[36m \u001b[39m\u001b[32mIn[22]\u001b[39m\u001b[32m, line 1\u001b[39m\n\u001b[32m----> \u001b[39m\u001b[32m1\u001b[39m \u001b[43mtext\u001b[49m\u001b[43m[\u001b[49m\u001b[32;43m0\u001b[39;49m\u001b[43m]\u001b[49m = \u001b[33m\"\u001b[39m\u001b[33mP\u001b[39m\u001b[33m\"\u001b[39m\n",
      "\u001b[31mTypeError\u001b[39m: 'str' object does not support item assignment"
     ]
    }
   ],
   "source": [
    "text[0] = \"P\""
   ]
  }
 ],
 "metadata": {
  "kernelspec": {
   "display_name": "Python 3",
   "language": "python",
   "name": "python3"
  },
  "language_info": {
   "codemirror_mode": {
    "name": "ipython",
    "version": 3
   },
   "file_extension": ".py",
   "mimetype": "text/x-python",
   "name": "python",
   "nbconvert_exporter": "python",
   "pygments_lexer": "ipython3",
   "version": "3.13.7"
  }
 },
 "nbformat": 4,
 "nbformat_minor": 5
}
