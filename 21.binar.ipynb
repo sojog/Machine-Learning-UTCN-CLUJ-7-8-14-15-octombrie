{
 "cells": [
  {
   "cell_type": "code",
   "execution_count": 1,
   "id": "657f8f85",
   "metadata": {},
   "outputs": [
    {
     "name": "stdout",
     "output_type": "stream",
     "text": [
      "i= 0  binar:  0b0\n",
      "i= 1  binar:  0b1\n",
      "i= 2  binar:  0b10\n",
      "i= 3  binar:  0b11\n",
      "i= 4  binar:  0b100\n",
      "i= 5  binar:  0b101\n",
      "i= 6  binar:  0b110\n",
      "i= 7  binar:  0b111\n",
      "i= 8  binar:  0b1000\n",
      "i= 9  binar:  0b1001\n"
     ]
    }
   ],
   "source": [
    "for i in range(10):\n",
    "    print(\"i=\", i, \" binar: \", bin(i))"
   ]
  },
  {
   "cell_type": "code",
   "execution_count": 2,
   "id": "1cb03fb3",
   "metadata": {},
   "outputs": [
    {
     "name": "stdout",
     "output_type": "stream",
     "text": [
      "i= 120  binar:  0b1111000\n",
      "i= 121  binar:  0b1111001\n",
      "i= 122  binar:  0b1111010\n",
      "i= 123  binar:  0b1111011\n",
      "i= 124  binar:  0b1111100\n",
      "i= 125  binar:  0b1111101\n",
      "i= 126  binar:  0b1111110\n",
      "i= 127  binar:  0b1111111\n",
      "i= 128  binar:  0b10000000\n"
     ]
    }
   ],
   "source": [
    "for i in range(120, 129):\n",
    "    print(\"i=\", i, \" binar: \", bin(i))"
   ]
  },
  {
   "cell_type": "code",
   "execution_count": 3,
   "id": "e23ee10b",
   "metadata": {},
   "outputs": [],
   "source": [
    "import numpy as np"
   ]
  },
  {
   "cell_type": "code",
   "execution_count": 4,
   "id": "714b6f13",
   "metadata": {},
   "outputs": [
    {
     "name": "stdout",
     "output_type": "stream",
     "text": [
      "[1 2 3] <class 'numpy.ndarray'> int64\n"
     ]
    }
   ],
   "source": [
    "arr = np.array([1, 2, 3])\n",
    "print(arr, type(arr), arr.dtype)"
   ]
  },
  {
   "cell_type": "code",
   "execution_count": 5,
   "id": "f43a3965",
   "metadata": {},
   "outputs": [
    {
     "name": "stdout",
     "output_type": "stream",
     "text": [
      "[1 2 3] <class 'numpy.ndarray'> int8\n"
     ]
    }
   ],
   "source": [
    "arr = np.array([1, 2, 3], dtype=np.int8)\n",
    "print(arr, type(arr), arr.dtype)"
   ]
  },
  {
   "cell_type": "code",
   "execution_count": 6,
   "id": "40622b80",
   "metadata": {},
   "outputs": [
    {
     "name": "stdout",
     "output_type": "stream",
     "text": [
      "[  1   2   3 100] <class 'numpy.ndarray'> int8\n"
     ]
    }
   ],
   "source": [
    "arr = np.array([1, 2, 3, 100], dtype=np.int8)\n",
    "print(arr, type(arr), arr.dtype)"
   ]
  },
  {
   "cell_type": "code",
   "execution_count": 7,
   "id": "c4079527",
   "metadata": {},
   "outputs": [
    {
     "ename": "OverflowError",
     "evalue": "Python integer 1000 out of bounds for int8",
     "output_type": "error",
     "traceback": [
      "\u001b[31m---------------------------------------------------------------------------\u001b[39m",
      "\u001b[31mOverflowError\u001b[39m                             Traceback (most recent call last)",
      "\u001b[36mCell\u001b[39m\u001b[36m \u001b[39m\u001b[32mIn[7]\u001b[39m\u001b[32m, line 1\u001b[39m\n\u001b[32m----> \u001b[39m\u001b[32m1\u001b[39m arr = \u001b[43mnp\u001b[49m\u001b[43m.\u001b[49m\u001b[43marray\u001b[49m\u001b[43m(\u001b[49m\u001b[43m[\u001b[49m\u001b[32;43m1\u001b[39;49m\u001b[43m,\u001b[49m\u001b[43m \u001b[49m\u001b[32;43m2\u001b[39;49m\u001b[43m,\u001b[49m\u001b[43m \u001b[49m\u001b[32;43m1000\u001b[39;49m\u001b[43m]\u001b[49m\u001b[43m,\u001b[49m\u001b[43m \u001b[49m\u001b[43mdtype\u001b[49m\u001b[43m=\u001b[49m\u001b[43mnp\u001b[49m\u001b[43m.\u001b[49m\u001b[43mint8\u001b[49m\u001b[43m)\u001b[49m\n\u001b[32m      2\u001b[39m \u001b[38;5;28mprint\u001b[39m(arr, \u001b[38;5;28mtype\u001b[39m(arr), arr.dtype)\n",
      "\u001b[31mOverflowError\u001b[39m: Python integer 1000 out of bounds for int8"
     ]
    }
   ],
   "source": [
    "arr = np.array([1, 2, 1000], dtype=np.int8)\n",
    "print(arr, type(arr), arr.dtype)"
   ]
  },
  {
   "cell_type": "code",
   "execution_count": 9,
   "id": "8cc57445",
   "metadata": {},
   "outputs": [
    {
     "data": {
      "text/plain": [
       "255"
      ]
     },
     "execution_count": 9,
     "metadata": {},
     "output_type": "execute_result"
    }
   ],
   "source": [
    "2 ** 8 - 1"
   ]
  },
  {
   "cell_type": "code",
   "execution_count": 10,
   "id": "7dcf9d2a",
   "metadata": {},
   "outputs": [
    {
     "ename": "OverflowError",
     "evalue": "Python integer 255 out of bounds for int8",
     "output_type": "error",
     "traceback": [
      "\u001b[31m---------------------------------------------------------------------------\u001b[39m",
      "\u001b[31mOverflowError\u001b[39m                             Traceback (most recent call last)",
      "\u001b[36mCell\u001b[39m\u001b[36m \u001b[39m\u001b[32mIn[10]\u001b[39m\u001b[32m, line 1\u001b[39m\n\u001b[32m----> \u001b[39m\u001b[32m1\u001b[39m arr = \u001b[43mnp\u001b[49m\u001b[43m.\u001b[49m\u001b[43marray\u001b[49m\u001b[43m(\u001b[49m\u001b[43m[\u001b[49m\u001b[32;43m1\u001b[39;49m\u001b[43m,\u001b[49m\u001b[43m \u001b[49m\u001b[32;43m2\u001b[39;49m\u001b[43m,\u001b[49m\u001b[43m \u001b[49m\u001b[32;43m255\u001b[39;49m\u001b[43m]\u001b[49m\u001b[43m,\u001b[49m\u001b[43m \u001b[49m\u001b[43mdtype\u001b[49m\u001b[43m=\u001b[49m\u001b[43mnp\u001b[49m\u001b[43m.\u001b[49m\u001b[43mint8\u001b[49m\u001b[43m)\u001b[49m\n\u001b[32m      2\u001b[39m \u001b[38;5;28mprint\u001b[39m(arr, \u001b[38;5;28mtype\u001b[39m(arr), arr.dtype)\n",
      "\u001b[31mOverflowError\u001b[39m: Python integer 255 out of bounds for int8"
     ]
    }
   ],
   "source": [
    "arr = np.array([1, 2, 255], dtype=np.int8)\n",
    "print(arr, type(arr), arr.dtype)"
   ]
  },
  {
   "cell_type": "markdown",
   "id": "c48f1c74",
   "metadata": {},
   "source": [
    "# UNSIGNED. - fara negative"
   ]
  },
  {
   "cell_type": "code",
   "execution_count": 11,
   "id": "59024fcd",
   "metadata": {},
   "outputs": [
    {
     "name": "stdout",
     "output_type": "stream",
     "text": [
      "[  1   2 255] <class 'numpy.ndarray'> uint8\n"
     ]
    }
   ],
   "source": [
    "arr = np.array([1, 2, 255], dtype=np.uint8) \n",
    "print(arr, type(arr), arr.dtype)"
   ]
  },
  {
   "cell_type": "code",
   "execution_count": 12,
   "id": "77077b9a",
   "metadata": {},
   "outputs": [
    {
     "ename": "OverflowError",
     "evalue": "Python integer 256 out of bounds for uint8",
     "output_type": "error",
     "traceback": [
      "\u001b[31m---------------------------------------------------------------------------\u001b[39m",
      "\u001b[31mOverflowError\u001b[39m                             Traceback (most recent call last)",
      "\u001b[36mCell\u001b[39m\u001b[36m \u001b[39m\u001b[32mIn[12]\u001b[39m\u001b[32m, line 1\u001b[39m\n\u001b[32m----> \u001b[39m\u001b[32m1\u001b[39m arr = \u001b[43mnp\u001b[49m\u001b[43m.\u001b[49m\u001b[43marray\u001b[49m\u001b[43m(\u001b[49m\u001b[43m[\u001b[49m\u001b[32;43m1\u001b[39;49m\u001b[43m,\u001b[49m\u001b[43m \u001b[49m\u001b[32;43m2\u001b[39;49m\u001b[43m,\u001b[49m\u001b[43m \u001b[49m\u001b[32;43m256\u001b[39;49m\u001b[43m]\u001b[49m\u001b[43m,\u001b[49m\u001b[43m \u001b[49m\u001b[43mdtype\u001b[49m\u001b[43m=\u001b[49m\u001b[43mnp\u001b[49m\u001b[43m.\u001b[49m\u001b[43muint8\u001b[49m\u001b[43m)\u001b[49m \n\u001b[32m      2\u001b[39m \u001b[38;5;28mprint\u001b[39m(arr, \u001b[38;5;28mtype\u001b[39m(arr), arr.dtype)\n",
      "\u001b[31mOverflowError\u001b[39m: Python integer 256 out of bounds for uint8"
     ]
    }
   ],
   "source": [
    "arr = np.array([1, 2, 256], dtype=np.uint8) \n",
    "print(arr, type(arr), arr.dtype)"
   ]
  },
  {
   "cell_type": "markdown",
   "id": "30f676f3",
   "metadata": {},
   "source": [
    "# int8 - numere intre -128 si 127 "
   ]
  },
  {
   "cell_type": "code",
   "execution_count": 14,
   "id": "c937453c",
   "metadata": {},
   "outputs": [
    {
     "name": "stdout",
     "output_type": "stream",
     "text": [
      "[  1   2 127] <class 'numpy.ndarray'> int8\n"
     ]
    }
   ],
   "source": [
    "arr = np.array([1, 2, 127], dtype=np.int8) \n",
    "print(arr, type(arr), arr.dtype)"
   ]
  },
  {
   "cell_type": "code",
   "execution_count": 16,
   "id": "024c631d",
   "metadata": {},
   "outputs": [
    {
     "name": "stdout",
     "output_type": "stream",
     "text": [
      "[   1    2 -128] <class 'numpy.ndarray'> int8\n"
     ]
    }
   ],
   "source": [
    "arr = np.array([1, 2, -128], dtype=np.int8) \n",
    "print(arr, type(arr), arr.dtype)"
   ]
  }
 ],
 "metadata": {
  "kernelspec": {
   "display_name": "Python 3",
   "language": "python",
   "name": "python3"
  },
  "language_info": {
   "codemirror_mode": {
    "name": "ipython",
    "version": 3
   },
   "file_extension": ".py",
   "mimetype": "text/x-python",
   "name": "python",
   "nbconvert_exporter": "python",
   "pygments_lexer": "ipython3",
   "version": "3.13.7"
  }
 },
 "nbformat": 4,
 "nbformat_minor": 5
}
