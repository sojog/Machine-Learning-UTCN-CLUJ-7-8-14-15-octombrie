{
 "cells": [
  {
   "cell_type": "code",
   "execution_count": null,
   "id": "bb9079e1",
   "metadata": {},
   "outputs": [
    {
     "name": "stdout",
     "output_type": "stream",
     "text": [
      "{} <class 'dict'>\n"
     ]
    }
   ],
   "source": [
    "colectie = {}\n",
    "print(colectie, type(colectie))"
   ]
  },
  {
   "cell_type": "code",
   "execution_count": 2,
   "id": "d8bcd366",
   "metadata": {},
   "outputs": [
    {
     "name": "stdout",
     "output_type": "stream",
     "text": [
      "{'cheie': 'valoare'} <class 'dict'>\n"
     ]
    }
   ],
   "source": [
    "colectie = {\"cheie\":\"valoare\"}\n",
    "print(colectie, type(colectie))"
   ]
  },
  {
   "cell_type": "markdown",
   "id": "cb629e76",
   "metadata": {},
   "source": [
    "# SET  - tine valorile unice (nu tine dubluri)"
   ]
  },
  {
   "cell_type": "code",
   "execution_count": 3,
   "id": "438a7682",
   "metadata": {},
   "outputs": [
    {
     "name": "stdout",
     "output_type": "stream",
     "text": [
      "{'valoare'} <class 'set'>\n"
     ]
    }
   ],
   "source": [
    "colectie = {\"valoare\"}\n",
    "print(colectie, type(colectie))"
   ]
  },
  {
   "cell_type": "code",
   "execution_count": 4,
   "id": "d627d8b4",
   "metadata": {},
   "outputs": [
    {
     "name": "stdout",
     "output_type": "stream",
     "text": [
      "{50, 20, 40, 10, 60, 30} <class 'set'>\n"
     ]
    }
   ],
   "source": [
    "colectie = {10, 10, 20, 30, 30, 40, 50, 60, 60, 60, 60, 60}\n",
    "print(colectie, type(colectie))"
   ]
  },
  {
   "cell_type": "markdown",
   "id": "a74dd210",
   "metadata": {},
   "source": [
    "# SETUL nu este ordonat"
   ]
  },
  {
   "cell_type": "code",
   "execution_count": 5,
   "id": "e1c3d2b7",
   "metadata": {},
   "outputs": [
    {
     "ename": "TypeError",
     "evalue": "'set' object is not subscriptable",
     "output_type": "error",
     "traceback": [
      "\u001b[31m---------------------------------------------------------------------------\u001b[39m",
      "\u001b[31mTypeError\u001b[39m                                 Traceback (most recent call last)",
      "\u001b[36mCell\u001b[39m\u001b[36m \u001b[39m\u001b[32mIn[5]\u001b[39m\u001b[32m, line 1\u001b[39m\n\u001b[32m----> \u001b[39m\u001b[32m1\u001b[39m \u001b[43mcolectie\u001b[49m\u001b[43m[\u001b[49m\u001b[32;43m0\u001b[39;49m\u001b[43m]\u001b[49m\n",
      "\u001b[31mTypeError\u001b[39m: 'set' object is not subscriptable"
     ]
    }
   ],
   "source": [
    "colectie[0]"
   ]
  },
  {
   "cell_type": "code",
   "execution_count": 6,
   "id": "d57355ea",
   "metadata": {},
   "outputs": [
    {
     "name": "stdout",
     "output_type": "stream",
     "text": [
      "[50, 20, 40, 10, 60, 30]\n"
     ]
    }
   ],
   "source": [
    "colectie = {10, 10, 20, 30, 30, 40, 50, 60, 60, 60, 60, 60}\n",
    "colectie = list(colectie)\n",
    "print(colectie)"
   ]
  },
  {
   "cell_type": "code",
   "execution_count": 7,
   "id": "735aa691",
   "metadata": {},
   "outputs": [
    {
     "data": {
      "text/plain": [
       "50"
      ]
     },
     "execution_count": 7,
     "metadata": {},
     "output_type": "execute_result"
    }
   ],
   "source": [
    "colectie[0]"
   ]
  },
  {
   "cell_type": "code",
   "execution_count": null,
   "id": "5e2ee6a4",
   "metadata": {},
   "outputs": [],
   "source": []
  }
 ],
 "metadata": {
  "kernelspec": {
   "display_name": "Python 3",
   "language": "python",
   "name": "python3"
  },
  "language_info": {
   "codemirror_mode": {
    "name": "ipython",
    "version": 3
   },
   "file_extension": ".py",
   "mimetype": "text/x-python",
   "name": "python",
   "nbconvert_exporter": "python",
   "pygments_lexer": "ipython3",
   "version": "3.13.7"
  }
 },
 "nbformat": 4,
 "nbformat_minor": 5
}
