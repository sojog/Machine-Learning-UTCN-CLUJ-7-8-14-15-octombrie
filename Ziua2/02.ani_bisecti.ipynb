{
 "cells": [
  {
   "cell_type": "code",
   "execution_count": 1,
   "id": "87fa7119",
   "metadata": {},
   "outputs": [],
   "source": [
    "import numpy as np\n"
   ]
  },
  {
   "cell_type": "code",
   "execution_count": 5,
   "id": "6918f03e",
   "metadata": {},
   "outputs": [],
   "source": [
    "start_date = input(\"Introdu primul nr\")\n",
    "end_date =  input(\"Introdu al doilea nr\")"
   ]
  },
  {
   "cell_type": "code",
   "execution_count": 7,
   "id": "69f5ca34",
   "metadata": {},
   "outputs": [],
   "source": [
    "start_date = int(start_date)\n",
    "end_date = int(end_date)"
   ]
  },
  {
   "cell_type": "code",
   "execution_count": 8,
   "id": "83807eb2",
   "metadata": {},
   "outputs": [
    {
     "data": {
      "text/plain": [
       "array([24, 28])"
      ]
     },
     "execution_count": 8,
     "metadata": {},
     "output_type": "execute_result"
    }
   ],
   "source": [
    "\n",
    "years = np.arange(start_date, end_date + 1)\n",
    "\n",
    "leap_years = years[((years % 4 == 0) & (years % 100 != 0)) | (years % 400 == 0)]\n",
    "leap_years"
   ]
  }
 ],
 "metadata": {
  "kernelspec": {
   "display_name": "Python 3",
   "language": "python",
   "name": "python3"
  },
  "language_info": {
   "codemirror_mode": {
    "name": "ipython",
    "version": 3
   },
   "file_extension": ".py",
   "mimetype": "text/x-python",
   "name": "python",
   "nbconvert_exporter": "python",
   "pygments_lexer": "ipython3",
   "version": "3.13.7"
  }
 },
 "nbformat": 4,
 "nbformat_minor": 5
}
