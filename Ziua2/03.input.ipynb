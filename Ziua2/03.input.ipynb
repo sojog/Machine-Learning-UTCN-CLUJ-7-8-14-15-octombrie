{
 "cells": [
  {
   "cell_type": "code",
   "execution_count": 2,
   "id": "7ef6efe0",
   "metadata": {},
   "outputs": [
    {
     "data": {
      "text/plain": [
       "('31232131', str)"
      ]
     },
     "execution_count": 2,
     "metadata": {},
     "output_type": "execute_result"
    }
   ],
   "source": [
    "x = input(\"Introdu un numar\")\n",
    "x, type(x)"
   ]
  },
  {
   "cell_type": "code",
   "execution_count": 3,
   "id": "cc03877c",
   "metadata": {},
   "outputs": [
    {
     "name": "stdout",
     "output_type": "stream",
     "text": [
      "32 <class 'str'>\n",
      "32 <class 'int'>\n"
     ]
    }
   ],
   "source": [
    "x = input(\"Introdu un numar\")\n",
    "print(x, type(x))\n",
    "x = int(x)\n",
    "print(x, type(x))"
   ]
  }
 ],
 "metadata": {
  "kernelspec": {
   "display_name": "Python 3",
   "language": "python",
   "name": "python3"
  },
  "language_info": {
   "codemirror_mode": {
    "name": "ipython",
    "version": 3
   },
   "file_extension": ".py",
   "mimetype": "text/x-python",
   "name": "python",
   "nbconvert_exporter": "python",
   "pygments_lexer": "ipython3",
   "version": "3.13.7"
  }
 },
 "nbformat": 4,
 "nbformat_minor": 5
}
