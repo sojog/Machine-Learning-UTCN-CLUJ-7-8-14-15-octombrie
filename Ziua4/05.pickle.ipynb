{
 "cells": [
  {
   "cell_type": "markdown",
   "id": "f943d1a4",
   "metadata": {},
   "source": [
    "# Pickle - modul buit-in"
   ]
  },
  {
   "cell_type": "code",
   "execution_count": 3,
   "id": "c60d4d8f",
   "metadata": {},
   "outputs": [],
   "source": [
    "import pickle\n",
    "import Masina"
   ]
  },
  {
   "cell_type": "code",
   "execution_count": 5,
   "id": "a26f862f",
   "metadata": {},
   "outputs": [
    {
     "data": {
      "text/plain": [
       "<Masina.Masina at 0x10aa7df90>"
      ]
     },
     "execution_count": 5,
     "metadata": {},
     "output_type": "execute_result"
    }
   ],
   "source": [
    "obiect_masina = Masina.Masina(1960, 110)\n",
    "obiect_masina"
   ]
  },
  {
   "cell_type": "code",
   "execution_count": 6,
   "id": "34b4665c",
   "metadata": {},
   "outputs": [],
   "source": [
    "with open(\"masina.pkl\", \"wb\") as file_writer:\n",
    "    pickle.dump(obiect_masina, file_writer)"
   ]
  },
  {
   "cell_type": "code",
   "execution_count": 7,
   "id": "27cf91b0",
   "metadata": {},
   "outputs": [
    {
     "name": "stdout",
     "output_type": "stream",
     "text": [
      "Masina din 1960  are 110\n"
     ]
    }
   ],
   "source": [
    "with open(\"masina.pkl\", \"rb\") as file_reader:\n",
    "    obiect_citit = pickle.load(file_reader)\n",
    "    print(obiect_citit)\n"
   ]
  }
 ],
 "metadata": {
  "kernelspec": {
   "display_name": "Python 3",
   "language": "python",
   "name": "python3"
  },
  "language_info": {
   "codemirror_mode": {
    "name": "ipython",
    "version": 3
   },
   "file_extension": ".py",
   "mimetype": "text/x-python",
   "name": "python",
   "nbconvert_exporter": "python",
   "pygments_lexer": "ipython3",
   "version": "3.13.7"
  }
 },
 "nbformat": 4,
 "nbformat_minor": 5
}
